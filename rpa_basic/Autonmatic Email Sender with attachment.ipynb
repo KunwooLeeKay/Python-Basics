{
 "cells": [
  {
   "cell_type": "code",
   "execution_count": 2,
   "metadata": {},
   "outputs": [],
   "source": [
    "from __future__ import print_function\n",
    "\n",
    "import base64\n",
    "import mimetypes\n",
    "import os\n",
    "from email.message import EmailMessage\n",
    "\n",
    "from googleapiclient.discovery import build\n",
    "from googleapiclient.errors import HttpError\n",
    "from google.oauth2.credentials import Credentials\n",
    "\n",
    "\n",
    "SCOPES = ['https://mail.google.com/']\n",
    "\n",
    "def send_with_attachment(To, From, Attachment_Path):\n",
    "    \"\"\"Create and insert a draft email with attachment.\n",
    "       Print the returned draft's message and id.\n",
    "      Returns: Draft object, including draft id and message meta data.\n",
    "\n",
    "      Load pre-authorized user credentials from the environment.\n",
    "      TODO(developer) - See https://developers.google.com/identity\n",
    "      for guides on implementing OAuth2 for the application.\n",
    "    \"\"\"\n",
    "    if os.path.exists('token.json'):\n",
    "        creds = Credentials.from_authorized_user_file('token.json', SCOPES)\n",
    "\n",
    "    try:\n",
    "        # create gmail api client\n",
    "        service = build('gmail', 'v1', credentials=creds)\n",
    "        mime_message = EmailMessage()\n",
    "\n",
    "        # headers\n",
    "        mime_message['To'] = To\n",
    "        mime_message['From'] = From\n",
    "        mime_message['Subject'] = 'title'\n",
    "\n",
    "        # text\n",
    "        mime_message.set_content(\n",
    "            'hello'\n",
    "        )\n",
    "\n",
    "        # attachment\n",
    "        attachment_filename = Attachment_Path\n",
    "        \n",
    "        # guessing the MIME type\n",
    "        type_subtype, _ = mimetypes.guess_type(attachment_filename)\n",
    "\n",
    "        # Setting the MIME type manually\n",
    "        type_subtype = 'application/pdf' # set it as pdf\n",
    "        \n",
    "        maintype, subtype = type_subtype.split('/')\n",
    "\n",
    "        with open(attachment_filename, 'rb') as fp:\n",
    "            attachment_data = fp.read()\n",
    "        mime_message.add_attachment(attachment_data, maintype, subtype)\n",
    "\n",
    "        encoded_message = base64.urlsafe_b64encode(mime_message.as_bytes()).decode()\n",
    "\n",
    "        create_message = {\n",
    "                'raw': encoded_message\n",
    "        }\n",
    "        # # pylint: disable=E1101\n",
    "        # draft = service.users().drafts().create(userId=\"me\",\n",
    "        #                                         body=create_draft_request_body)\\\n",
    "        #     .execute()\n",
    "        \n",
    "\n",
    "        \n",
    "        send_message = (service.users().messages().send\n",
    "                        (userId=\"me\", body=create_message).execute())\n",
    "        \n",
    "        print(F'Message Id: {send_message[\"id\"]}')\n",
    "\n",
    "    except HttpError as error:\n",
    "        print(F'An error occurred: {error}')\n",
    "        print('error :', To)\n",
    "        draft = None\n",
    "    return send_message"
   ]
  },
  {
   "cell_type": "markdown",
   "metadata": {},
   "source": [
    "# Test"
   ]
  },
  {
   "cell_type": "code",
   "execution_count": 3,
   "metadata": {},
   "outputs": [
    {
     "name": "stdout",
     "output_type": "stream",
     "text": [
      "Message Id: 18ba8b103ebd19a5\n"
     ]
    },
    {
     "data": {
      "text/plain": [
       "{'id': '18ba8b103ebd19a5',\n",
       " 'threadId': '18ba8b103ebd19a5',\n",
       " 'labelIds': ['UNREAD', 'SENT', 'INBOX']}"
      ]
     },
     "execution_count": 3,
     "metadata": {},
     "output_type": "execute_result"
    }
   ],
   "source": [
    "me = 'klee90@hawk.iit.edu'\n",
    "test_file = '/Users/kunwoosmac/Desktop/Gmail_api/attachments/1.pdf'\n",
    "send_with_attachment(me, me,test_file)"
   ]
  },
  {
   "cell_type": "markdown",
   "metadata": {},
   "source": [
    "# Load excel file for data"
   ]
  },
  {
   "cell_type": "code",
   "execution_count": null,
   "metadata": {},
   "outputs": [],
   "source": [
    "from openpyxl import load_workbook\n",
    "import numpy as np\n",
    "\n",
    "source = ''\n",
    "Wb = load_workbook(source)\n",
    "ws = Wb['Sheet1']\n",
    "\n",
    "certificate_number = np.array([ws.cell(x, 1).value for x in range(2, ws.max_row+1)])\n",
    "attendee_name = np.array([ws.cell(x, 2).value for x in range(2, ws.max_row+1)])\n",
    "email_adress = np.array([ws.cell(x, 3).value for x in range(2, ws.max_row+1)])\n",
    "\n",
    "# Check\n",
    "print('0~10')\n",
    "certificate_number[0:10], attendee_name[0:10], email_adress[0:10]"
   ]
  },
  {
   "cell_type": "markdown",
   "metadata": {},
   "source": [
    "# Send"
   ]
  },
  {
   "cell_type": "code",
   "execution_count": null,
   "metadata": {},
   "outputs": [],
   "source": [
    "certificate_path = 'attachment file path'\n",
    "\n",
    "for i in range(len(certificate_number)):\n",
    "    print(str(attendee_name[i]), ' sent!')\n",
    "    send_with_attachment(email_adress[i], me, certificate_path + '/' + str(certificate_number[i]) + '.pdf')"
   ]
  },
  {
   "cell_type": "markdown",
   "metadata": {},
   "source": []
  }
 ],
 "metadata": {
  "kernelspec": {
   "display_name": "tf25",
   "language": "python",
   "name": "python3"
  },
  "language_info": {
   "codemirror_mode": {
    "name": "ipython",
    "version": 3
   },
   "file_extension": ".py",
   "mimetype": "text/x-python",
   "name": "python",
   "nbconvert_exporter": "python",
   "pygments_lexer": "ipython3",
   "version": "3.8.16"
  },
  "orig_nbformat": 4
 },
 "nbformat": 4,
 "nbformat_minor": 2
}
